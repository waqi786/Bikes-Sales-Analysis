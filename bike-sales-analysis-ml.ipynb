{
 "cells": [
  {
   "cell_type": "markdown",
   "id": "166824d6",
   "metadata": {
    "papermill": {
     "duration": 0.010958,
     "end_time": "2024-10-01T14:54:25.406504",
     "exception": false,
     "start_time": "2024-10-01T14:54:25.395546",
     "status": "completed"
    },
    "tags": []
   },
   "source": [
    "<a id=\"2\"></a>\n",
    "<div style=\"display: flex; align-items: center; justify-content: center; text-align:center; border-radius:20px; padding:30px; color:white; margin:0 auto; font-size:500%; font-family:Arial; background-color:purple; overflow:hidden; width: 600px; height: 240px; \n",
    "    box-shadow: 0 0 000px 00px rgba(5.03, 5.00, 5, 5.0);\">\n",
    "    <b>Bike Sales Analysis & ML</b>\n",
    "</div>\n"
   ]
  },
  {
   "cell_type": "markdown",
   "id": "d654749d",
   "metadata": {
    "papermill": {
     "duration": 0.009412,
     "end_time": "2024-10-01T14:54:25.425726",
     "exception": false,
     "start_time": "2024-10-01T14:54:25.416314",
     "status": "completed"
    },
    "tags": []
   },
   "source": [
    "<a id=\"2\"></a>\n",
    "# <div style=\"text-align:center; border-radius:15px 50px; padding:15px; color:white; margin:0; font-size:100%; font-family:Arial; background-color:purple; overflow:hidden\"><b>  ✨ **About Author** ✨ </b></div>\n",
    "\n",
    "<div style=\"background-color: white; border: 9px solid purple; border-radius: 19px; box-shadow: 0 10px 20px rgba(0, 0, 0, 0.1); max-width: 600px; margin: 20px auto; padding: 20px; text-align: center; font-family: 'Segoe UI', Tahoma, Geneva, Verdana, sans-serif;\">\n",
    "    <h2 style=\"color: black; font-weight: bold; margin-bottom: 10px;\">WAQAR ALI</h2>\n",
    "    <p style=\"font-size: 16px; line-height: 1.6; color: black; margin-bottom: 20px;\">\n",
    "        I'm a passionate Data Scientist and Analyst, dedicated to transforming raw data into actionable insights through captivating visualizations. Let's dive into the fascinating world of data and uncover the stories hidden within! 📊🔍✨\n",
    "    </p>\n",
    "    <p style=\"color: black; font-size: 16px; font-weight: bold;\">Connect with me:</p>\n",
    "    <a href=\"https://www.linkedin.com/in/waqar-ali-a51297318/\" target=\"_blank\" style=\"display: inline-block; background-color: purple; color: white; text-decoration: none; padding: 10px 20px; border-radius: 5px; margin: 5px;\">LinkedIn</a>\n",
    "    <a href=\"https://github.com/waqi786\" target=\"_blank\" style=\"display: inline-block; background-color: green; color: white; text-decoration: none; padding: 10px 20px; border-radius: 5px; margin: 5px;\">GitHub</a>\n",
    "    <a href=\"https://www.kaggle.com/waqi786\" target=\"_blank\" style=\"display: inline-block; background-color: red; color: white; text-decoration: none; padding: 10px 20px; border-radius: 5px; margin: 5px;\">Kaggle</a>\n",
    "    <a href=\"mailto:dsali20838@gmail.com\" style=\"display: inline-block; background-color: blue; color: white; text-decoration: none; padding: 10px 20px; border-radius: 5px; margin: 5px;\">Email</a>\n",
    "</div>\n"
   ]
  },
  {
   "cell_type": "markdown",
   "id": "0b8ff382",
   "metadata": {
    "papermill": {
     "duration": 0.010159,
     "end_time": "2024-10-01T14:54:25.445599",
     "exception": false,
     "start_time": "2024-10-01T14:54:25.435440",
     "status": "completed"
    },
    "tags": []
   },
   "source": [
    "<a id=\"2\"></a>\n",
    "# <div style=\"text-align:center; border-radius:15px 50px; padding:15px; color:white; margin:0; font-size:100%; font-family:Arial; background-color:purple; overflow:hidden\"><b> ✨ Importing Libraries ✨</b></div>"
   ]
  },
  {
   "cell_type": "code",
   "execution_count": 1,
   "id": "8ab7c480",
   "metadata": {
    "execution": {
     "iopub.execute_input": "2024-10-01T14:54:25.466648Z",
     "iopub.status.busy": "2024-10-01T14:54:25.466231Z",
     "iopub.status.idle": "2024-10-01T14:54:27.872145Z",
     "shell.execute_reply": "2024-10-01T14:54:27.871055Z"
    },
    "papermill": {
     "duration": 2.419504,
     "end_time": "2024-10-01T14:54:27.874728",
     "exception": false,
     "start_time": "2024-10-01T14:54:25.455224",
     "status": "completed"
    },
    "tags": []
   },
   "outputs": [],
   "source": [
    "# Importing necessary libraries\n",
    "import pandas as pd\n",
    "import numpy as np\n",
    "import matplotlib.pyplot as plt\n",
    "import seaborn as sns\n",
    "import warnings\n",
    "\n",
    "warnings.filterwarnings(\"ignore\")\n",
    "# Setting display options for better visibility\n",
    "pd.set_option('display.max_columns', None)\n",
    "sns.set(style=\"whitegrid\")\n"
   ]
  },
  {
   "cell_type": "markdown",
   "id": "301128c9",
   "metadata": {
    "papermill": {
     "duration": 0.009385,
     "end_time": "2024-10-01T14:54:27.893795",
     "exception": false,
     "start_time": "2024-10-01T14:54:27.884410",
     "status": "completed"
    },
    "tags": []
   },
   "source": [
    "<a id=\"2\"></a>\n",
    "# <div style=\"text-align:center; border-radius:15px 50px; padding:15px; color:white; margin:0; font-size:100%; font-family:Arial; background-color:purple; overflow:hidden\"><b> ✨ Load the Data ✨</b></div>"
   ]
  },
  {
   "cell_type": "code",
   "execution_count": 2,
   "id": "eba9b40b",
   "metadata": {
    "execution": {
     "iopub.execute_input": "2024-10-01T14:54:27.915516Z",
     "iopub.status.busy": "2024-10-01T14:54:27.914347Z",
     "iopub.status.idle": "2024-10-01T14:54:28.235163Z",
     "shell.execute_reply": "2024-10-01T14:54:28.233867Z"
    },
    "papermill": {
     "duration": 0.334215,
     "end_time": "2024-10-01T14:54:28.237601",
     "exception": false,
     "start_time": "2024-10-01T14:54:27.903386",
     "status": "completed"
    },
    "tags": []
   },
   "outputs": [
    {
     "data": {
      "text/html": [
       "<div>\n",
       "<style scoped>\n",
       "    .dataframe tbody tr th:only-of-type {\n",
       "        vertical-align: middle;\n",
       "    }\n",
       "\n",
       "    .dataframe tbody tr th {\n",
       "        vertical-align: top;\n",
       "    }\n",
       "\n",
       "    .dataframe thead th {\n",
       "        text-align: right;\n",
       "    }\n",
       "</style>\n",
       "<table border=\"1\" class=\"dataframe\">\n",
       "  <thead>\n",
       "    <tr style=\"text-align: right;\">\n",
       "      <th></th>\n",
       "      <th>Sale_ID</th>\n",
       "      <th>Date</th>\n",
       "      <th>Customer_ID</th>\n",
       "      <th>Bike_Model</th>\n",
       "      <th>Price</th>\n",
       "      <th>Quantity</th>\n",
       "      <th>Store_Location</th>\n",
       "      <th>Salesperson_ID</th>\n",
       "      <th>Payment_Method</th>\n",
       "      <th>Customer_Age</th>\n",
       "      <th>Customer_Gender</th>\n",
       "    </tr>\n",
       "  </thead>\n",
       "  <tbody>\n",
       "    <tr>\n",
       "      <th>0</th>\n",
       "      <td>1</td>\n",
       "      <td>11-07-2022</td>\n",
       "      <td>9390</td>\n",
       "      <td>Cruiser</td>\n",
       "      <td>318.32</td>\n",
       "      <td>1</td>\n",
       "      <td>Philadelphia</td>\n",
       "      <td>589</td>\n",
       "      <td>Apple Pay</td>\n",
       "      <td>70</td>\n",
       "      <td>Female</td>\n",
       "    </tr>\n",
       "    <tr>\n",
       "      <th>1</th>\n",
       "      <td>2</td>\n",
       "      <td>03-05-2024</td>\n",
       "      <td>3374</td>\n",
       "      <td>Hybrid Bike</td>\n",
       "      <td>3093.47</td>\n",
       "      <td>4</td>\n",
       "      <td>Chicago</td>\n",
       "      <td>390</td>\n",
       "      <td>Apple Pay</td>\n",
       "      <td>37</td>\n",
       "      <td>Male</td>\n",
       "    </tr>\n",
       "    <tr>\n",
       "      <th>2</th>\n",
       "      <td>3</td>\n",
       "      <td>01-09-2022</td>\n",
       "      <td>2689</td>\n",
       "      <td>Folding Bike</td>\n",
       "      <td>4247.99</td>\n",
       "      <td>3</td>\n",
       "      <td>San Antonio</td>\n",
       "      <td>338</td>\n",
       "      <td>PayPal</td>\n",
       "      <td>59</td>\n",
       "      <td>Female</td>\n",
       "    </tr>\n",
       "    <tr>\n",
       "      <th>3</th>\n",
       "      <td>4</td>\n",
       "      <td>28-09-2022</td>\n",
       "      <td>3797</td>\n",
       "      <td>Mountain Bike</td>\n",
       "      <td>1722.01</td>\n",
       "      <td>3</td>\n",
       "      <td>San Antonio</td>\n",
       "      <td>352</td>\n",
       "      <td>Apple Pay</td>\n",
       "      <td>19</td>\n",
       "      <td>Male</td>\n",
       "    </tr>\n",
       "    <tr>\n",
       "      <th>4</th>\n",
       "      <td>5</td>\n",
       "      <td>05-01-2021</td>\n",
       "      <td>1633</td>\n",
       "      <td>BMX</td>\n",
       "      <td>3941.44</td>\n",
       "      <td>3</td>\n",
       "      <td>Philadelphia</td>\n",
       "      <td>580</td>\n",
       "      <td>PayPal</td>\n",
       "      <td>67</td>\n",
       "      <td>Female</td>\n",
       "    </tr>\n",
       "    <tr>\n",
       "      <th>5</th>\n",
       "      <td>6</td>\n",
       "      <td>06-09-2021</td>\n",
       "      <td>9663</td>\n",
       "      <td>Mountain Bike</td>\n",
       "      <td>1778.12</td>\n",
       "      <td>5</td>\n",
       "      <td>Chicago</td>\n",
       "      <td>829</td>\n",
       "      <td>Google Pay</td>\n",
       "      <td>42</td>\n",
       "      <td>Male</td>\n",
       "    </tr>\n",
       "    <tr>\n",
       "      <th>6</th>\n",
       "      <td>7</td>\n",
       "      <td>08-06-2020</td>\n",
       "      <td>6049</td>\n",
       "      <td>Hybrid Bike</td>\n",
       "      <td>1513.60</td>\n",
       "      <td>4</td>\n",
       "      <td>Philadelphia</td>\n",
       "      <td>916</td>\n",
       "      <td>Google Pay</td>\n",
       "      <td>20</td>\n",
       "      <td>Male</td>\n",
       "    </tr>\n",
       "    <tr>\n",
       "      <th>7</th>\n",
       "      <td>8</td>\n",
       "      <td>22-08-2021</td>\n",
       "      <td>5784</td>\n",
       "      <td>Road Bike</td>\n",
       "      <td>3825.94</td>\n",
       "      <td>1</td>\n",
       "      <td>Philadelphia</td>\n",
       "      <td>291</td>\n",
       "      <td>Debit Card</td>\n",
       "      <td>57</td>\n",
       "      <td>Male</td>\n",
       "    </tr>\n",
       "    <tr>\n",
       "      <th>8</th>\n",
       "      <td>9</td>\n",
       "      <td>04-10-2020</td>\n",
       "      <td>9649</td>\n",
       "      <td>Road Bike</td>\n",
       "      <td>614.94</td>\n",
       "      <td>3</td>\n",
       "      <td>San Antonio</td>\n",
       "      <td>906</td>\n",
       "      <td>Debit Card</td>\n",
       "      <td>62</td>\n",
       "      <td>Male</td>\n",
       "    </tr>\n",
       "    <tr>\n",
       "      <th>9</th>\n",
       "      <td>10</td>\n",
       "      <td>22-03-2023</td>\n",
       "      <td>3977</td>\n",
       "      <td>Electric Bike</td>\n",
       "      <td>2707.40</td>\n",
       "      <td>5</td>\n",
       "      <td>Los Angeles</td>\n",
       "      <td>562</td>\n",
       "      <td>PayPal</td>\n",
       "      <td>65</td>\n",
       "      <td>Male</td>\n",
       "    </tr>\n",
       "  </tbody>\n",
       "</table>\n",
       "</div>"
      ],
      "text/plain": [
       "   Sale_ID        Date  Customer_ID     Bike_Model    Price  Quantity  \\\n",
       "0        1  11-07-2022         9390        Cruiser   318.32         1   \n",
       "1        2  03-05-2024         3374    Hybrid Bike  3093.47         4   \n",
       "2        3  01-09-2022         2689   Folding Bike  4247.99         3   \n",
       "3        4  28-09-2022         3797  Mountain Bike  1722.01         3   \n",
       "4        5  05-01-2021         1633            BMX  3941.44         3   \n",
       "5        6  06-09-2021         9663  Mountain Bike  1778.12         5   \n",
       "6        7  08-06-2020         6049    Hybrid Bike  1513.60         4   \n",
       "7        8  22-08-2021         5784      Road Bike  3825.94         1   \n",
       "8        9  04-10-2020         9649      Road Bike   614.94         3   \n",
       "9       10  22-03-2023         3977  Electric Bike  2707.40         5   \n",
       "\n",
       "  Store_Location  Salesperson_ID Payment_Method  Customer_Age Customer_Gender  \n",
       "0   Philadelphia             589      Apple Pay            70          Female  \n",
       "1        Chicago             390      Apple Pay            37            Male  \n",
       "2    San Antonio             338         PayPal            59          Female  \n",
       "3    San Antonio             352      Apple Pay            19            Male  \n",
       "4   Philadelphia             580         PayPal            67          Female  \n",
       "5        Chicago             829     Google Pay            42            Male  \n",
       "6   Philadelphia             916     Google Pay            20            Male  \n",
       "7   Philadelphia             291     Debit Card            57            Male  \n",
       "8    San Antonio             906     Debit Card            62            Male  \n",
       "9    Los Angeles             562         PayPal            65            Male  "
      ]
     },
     "execution_count": 2,
     "metadata": {},
     "output_type": "execute_result"
    }
   ],
   "source": [
    "# Loading the dataset\n",
    "file_path = '/kaggle/input/bike-sales-data-of-100k/bike_sales_100k.csv'\n",
    "bike_data = pd.read_csv(file_path)\n",
    "\n",
    "# Displaying the first few rows of the dataset\n",
    "bike_data.head(10)\n"
   ]
  },
  {
   "cell_type": "markdown",
   "id": "b3625660",
   "metadata": {
    "papermill": {
     "duration": 0.009871,
     "end_time": "2024-10-01T14:54:28.257738",
     "exception": false,
     "start_time": "2024-10-01T14:54:28.247867",
     "status": "completed"
    },
    "tags": []
   },
   "source": [
    "<a id=\"2\"></a>\n",
    "# <div style=\"text-align:center; border-radius:15px 50px; padding:15px; color:white; margin:0; font-size:100%; font-family:Arial; background-color:purple; overflow:hidden\"><b> ✨ Data Overview ✨</b></div>"
   ]
  },
  {
   "cell_type": "code",
   "execution_count": 3,
   "id": "1417300b",
   "metadata": {
    "execution": {
     "iopub.execute_input": "2024-10-01T14:54:28.286343Z",
     "iopub.status.busy": "2024-10-01T14:54:28.285909Z",
     "iopub.status.idle": "2024-10-01T14:54:28.332797Z",
     "shell.execute_reply": "2024-10-01T14:54:28.331330Z"
    },
    "papermill": {
     "duration": 0.062831,
     "end_time": "2024-10-01T14:54:28.335291",
     "exception": false,
     "start_time": "2024-10-01T14:54:28.272460",
     "status": "completed"
    },
    "tags": []
   },
   "outputs": [
    {
     "name": "stdout",
     "output_type": "stream",
     "text": [
      "<class 'pandas.core.frame.DataFrame'>\n",
      "RangeIndex: 100000 entries, 0 to 99999\n",
      "Data columns (total 11 columns):\n",
      " #   Column           Non-Null Count   Dtype  \n",
      "---  ------           --------------   -----  \n",
      " 0   Sale_ID          100000 non-null  int64  \n",
      " 1   Date             100000 non-null  object \n",
      " 2   Customer_ID      100000 non-null  int64  \n",
      " 3   Bike_Model       100000 non-null  object \n",
      " 4   Price            100000 non-null  float64\n",
      " 5   Quantity         100000 non-null  int64  \n",
      " 6   Store_Location   100000 non-null  object \n",
      " 7   Salesperson_ID   100000 non-null  int64  \n",
      " 8   Payment_Method   100000 non-null  object \n",
      " 9   Customer_Age     100000 non-null  int64  \n",
      " 10  Customer_Gender  100000 non-null  object \n",
      "dtypes: float64(1), int64(5), object(5)\n",
      "memory usage: 8.4+ MB\n"
     ]
    }
   ],
   "source": [
    "# Getting an overview of the dataset\n",
    "bike_data.info()\n"
   ]
  },
  {
   "cell_type": "markdown",
   "id": "79064ca3",
   "metadata": {
    "papermill": {
     "duration": 0.011621,
     "end_time": "2024-10-01T14:54:28.357226",
     "exception": false,
     "start_time": "2024-10-01T14:54:28.345605",
     "status": "completed"
    },
    "tags": []
   },
   "source": [
    "<a id=\"2\"></a>\n",
    "# <div style=\"text-align:center; border-radius:15px 50px; padding:15px; color:white; margin:0; font-size:100%; font-family:Arial; background-color:purple; overflow:hidden\"><b> ✨ Checking for Missing Values ✨</b></div>"
   ]
  },
  {
   "cell_type": "code",
   "execution_count": 4,
   "id": "6d4a169d",
   "metadata": {
    "execution": {
     "iopub.execute_input": "2024-10-01T14:54:28.380209Z",
     "iopub.status.busy": "2024-10-01T14:54:28.379835Z",
     "iopub.status.idle": "2024-10-01T14:54:28.419868Z",
     "shell.execute_reply": "2024-10-01T14:54:28.418778Z"
    },
    "papermill": {
     "duration": 0.055089,
     "end_time": "2024-10-01T14:54:28.422703",
     "exception": false,
     "start_time": "2024-10-01T14:54:28.367614",
     "status": "completed"
    },
    "tags": []
   },
   "outputs": [
    {
     "data": {
      "text/plain": [
       "Series([], dtype: int64)"
      ]
     },
     "execution_count": 4,
     "metadata": {},
     "output_type": "execute_result"
    }
   ],
   "source": [
    "# Checking for missing values in the dataset\n",
    "missing_values = bike_data.isnull().sum()\n",
    "missing_values[missing_values > 0]\n"
   ]
  },
  {
   "cell_type": "markdown",
   "id": "73f9d5a1",
   "metadata": {
    "papermill": {
     "duration": 0.010719,
     "end_time": "2024-10-01T14:54:28.449147",
     "exception": false,
     "start_time": "2024-10-01T14:54:28.438428",
     "status": "completed"
    },
    "tags": []
   },
   "source": [
    "<a id=\"2\"></a>\n",
    "# <div style=\"text-align:center; border-radius:15px 50px; padding:15px; color:white; margin:0; font-size:100%; font-family:Arial; background-color:purple; overflow:hidden\"><b> ✨ Data Cleaning (Handling Missing Values) ✨</b></div>"
   ]
  },
  {
   "cell_type": "code",
   "execution_count": 5,
   "id": "28424a9e",
   "metadata": {
    "execution": {
     "iopub.execute_input": "2024-10-01T14:54:28.472007Z",
     "iopub.status.busy": "2024-10-01T14:54:28.471109Z",
     "iopub.status.idle": "2024-10-01T14:54:28.541461Z",
     "shell.execute_reply": "2024-10-01T14:54:28.540123Z"
    },
    "papermill": {
     "duration": 0.084369,
     "end_time": "2024-10-01T14:54:28.543863",
     "exception": false,
     "start_time": "2024-10-01T14:54:28.459494",
     "status": "completed"
    },
    "tags": []
   },
   "outputs": [
    {
     "data": {
      "text/plain": [
       "Series([], dtype: int64)"
      ]
     },
     "execution_count": 5,
     "metadata": {},
     "output_type": "execute_result"
    }
   ],
   "source": [
    "# Dropping rows with missing values\n",
    "bike_data_cleaned = bike_data.dropna()\n",
    "\n",
    "# Verifying if there are any missing values left\n",
    "missing_values_after = bike_data_cleaned.isnull().sum()\n",
    "missing_values_after[missing_values_after > 0]\n"
   ]
  },
  {
   "cell_type": "markdown",
   "id": "40524ff7",
   "metadata": {
    "papermill": {
     "duration": 0.010208,
     "end_time": "2024-10-01T14:54:28.564735",
     "exception": false,
     "start_time": "2024-10-01T14:54:28.554527",
     "status": "completed"
    },
    "tags": []
   },
   "source": [
    "<a id=\"2\"></a>\n",
    "# <div style=\"text-align:center; border-radius:15px 50px; padding:15px; color:white; margin:0; font-size:100%; font-family:Arial; background-color:purple; overflow:hidden\"><b> ✨ Data Cleaning (Removing Duplicates) ✨</b></div>"
   ]
  },
  {
   "cell_type": "code",
   "execution_count": 6,
   "id": "aa86d4ff",
   "metadata": {
    "execution": {
     "iopub.execute_input": "2024-10-01T14:54:28.588490Z",
     "iopub.status.busy": "2024-10-01T14:54:28.587302Z",
     "iopub.status.idle": "2024-10-01T14:54:28.735814Z",
     "shell.execute_reply": "2024-10-01T14:54:28.734856Z"
    },
    "papermill": {
     "duration": 0.16286,
     "end_time": "2024-10-01T14:54:28.738431",
     "exception": false,
     "start_time": "2024-10-01T14:54:28.575571",
     "status": "completed"
    },
    "tags": []
   },
   "outputs": [],
   "source": [
    "# Checking for duplicates in the dataset\n",
    "duplicates = bike_data_cleaned.duplicated().sum()\n",
    "duplicates\n",
    "\n",
    "# Removing duplicates if any\n",
    "bike_data_cleaned = bike_data_cleaned.drop_duplicates()\n"
   ]
  },
  {
   "cell_type": "markdown",
   "id": "e0d3586c",
   "metadata": {
    "papermill": {
     "duration": 0.01029,
     "end_time": "2024-10-01T14:54:28.759812",
     "exception": false,
     "start_time": "2024-10-01T14:54:28.749522",
     "status": "completed"
    },
    "tags": []
   },
   "source": [
    "<a id=\"2\"></a>\n",
    "# <div style=\"text-align:center; border-radius:15px 50px; padding:15px; color:white; margin:0; font-size:100%; font-family:Arial; background-color:purple; overflow:hidden\"><b> ✨ Data Exploration (Basic Statistics) ✨</b></div>"
   ]
  },
  {
   "cell_type": "code",
   "execution_count": 7,
   "id": "115fcda2",
   "metadata": {
    "execution": {
     "iopub.execute_input": "2024-10-01T14:54:28.783013Z",
     "iopub.status.busy": "2024-10-01T14:54:28.782093Z",
     "iopub.status.idle": "2024-10-01T14:54:28.835450Z",
     "shell.execute_reply": "2024-10-01T14:54:28.834270Z"
    },
    "papermill": {
     "duration": 0.067681,
     "end_time": "2024-10-01T14:54:28.837886",
     "exception": false,
     "start_time": "2024-10-01T14:54:28.770205",
     "status": "completed"
    },
    "tags": []
   },
   "outputs": [
    {
     "data": {
      "text/html": [
       "<div>\n",
       "<style scoped>\n",
       "    .dataframe tbody tr th:only-of-type {\n",
       "        vertical-align: middle;\n",
       "    }\n",
       "\n",
       "    .dataframe tbody tr th {\n",
       "        vertical-align: top;\n",
       "    }\n",
       "\n",
       "    .dataframe thead th {\n",
       "        text-align: right;\n",
       "    }\n",
       "</style>\n",
       "<table border=\"1\" class=\"dataframe\">\n",
       "  <thead>\n",
       "    <tr style=\"text-align: right;\">\n",
       "      <th></th>\n",
       "      <th>Sale_ID</th>\n",
       "      <th>Customer_ID</th>\n",
       "      <th>Price</th>\n",
       "      <th>Quantity</th>\n",
       "      <th>Salesperson_ID</th>\n",
       "      <th>Customer_Age</th>\n",
       "    </tr>\n",
       "  </thead>\n",
       "  <tbody>\n",
       "    <tr>\n",
       "      <th>count</th>\n",
       "      <td>100000.000000</td>\n",
       "      <td>100000.000000</td>\n",
       "      <td>100000.000000</td>\n",
       "      <td>100000.000000</td>\n",
       "      <td>100000.000000</td>\n",
       "      <td>100000.000000</td>\n",
       "    </tr>\n",
       "    <tr>\n",
       "      <th>mean</th>\n",
       "      <td>50000.500000</td>\n",
       "      <td>5495.450720</td>\n",
       "      <td>2598.182340</td>\n",
       "      <td>2.997110</td>\n",
       "      <td>549.906300</td>\n",
       "      <td>44.043410</td>\n",
       "    </tr>\n",
       "    <tr>\n",
       "      <th>std</th>\n",
       "      <td>28867.657797</td>\n",
       "      <td>2598.873948</td>\n",
       "      <td>1384.943133</td>\n",
       "      <td>1.414235</td>\n",
       "      <td>259.679221</td>\n",
       "      <td>15.313761</td>\n",
       "    </tr>\n",
       "    <tr>\n",
       "      <th>min</th>\n",
       "      <td>1.000000</td>\n",
       "      <td>1000.000000</td>\n",
       "      <td>200.010000</td>\n",
       "      <td>1.000000</td>\n",
       "      <td>100.000000</td>\n",
       "      <td>18.000000</td>\n",
       "    </tr>\n",
       "    <tr>\n",
       "      <th>25%</th>\n",
       "      <td>25000.750000</td>\n",
       "      <td>3249.000000</td>\n",
       "      <td>1399.787500</td>\n",
       "      <td>2.000000</td>\n",
       "      <td>324.000000</td>\n",
       "      <td>31.000000</td>\n",
       "    </tr>\n",
       "    <tr>\n",
       "      <th>50%</th>\n",
       "      <td>50000.500000</td>\n",
       "      <td>5491.000000</td>\n",
       "      <td>2598.575000</td>\n",
       "      <td>3.000000</td>\n",
       "      <td>550.000000</td>\n",
       "      <td>44.000000</td>\n",
       "    </tr>\n",
       "    <tr>\n",
       "      <th>75%</th>\n",
       "      <td>75000.250000</td>\n",
       "      <td>7738.000000</td>\n",
       "      <td>3795.982500</td>\n",
       "      <td>4.000000</td>\n",
       "      <td>775.000000</td>\n",
       "      <td>57.000000</td>\n",
       "    </tr>\n",
       "    <tr>\n",
       "      <th>max</th>\n",
       "      <td>100000.000000</td>\n",
       "      <td>9999.000000</td>\n",
       "      <td>4999.810000</td>\n",
       "      <td>5.000000</td>\n",
       "      <td>999.000000</td>\n",
       "      <td>70.000000</td>\n",
       "    </tr>\n",
       "  </tbody>\n",
       "</table>\n",
       "</div>"
      ],
      "text/plain": [
       "             Sale_ID    Customer_ID          Price       Quantity  \\\n",
       "count  100000.000000  100000.000000  100000.000000  100000.000000   \n",
       "mean    50000.500000    5495.450720    2598.182340       2.997110   \n",
       "std     28867.657797    2598.873948    1384.943133       1.414235   \n",
       "min         1.000000    1000.000000     200.010000       1.000000   \n",
       "25%     25000.750000    3249.000000    1399.787500       2.000000   \n",
       "50%     50000.500000    5491.000000    2598.575000       3.000000   \n",
       "75%     75000.250000    7738.000000    3795.982500       4.000000   \n",
       "max    100000.000000    9999.000000    4999.810000       5.000000   \n",
       "\n",
       "       Salesperson_ID   Customer_Age  \n",
       "count   100000.000000  100000.000000  \n",
       "mean       549.906300      44.043410  \n",
       "std        259.679221      15.313761  \n",
       "min        100.000000      18.000000  \n",
       "25%        324.000000      31.000000  \n",
       "50%        550.000000      44.000000  \n",
       "75%        775.000000      57.000000  \n",
       "max        999.000000      70.000000  "
      ]
     },
     "execution_count": 7,
     "metadata": {},
     "output_type": "execute_result"
    }
   ],
   "source": [
    "# Generating descriptive statistics\n",
    "bike_data_cleaned.describe()\n"
   ]
  },
  {
   "cell_type": "markdown",
   "id": "21bde387",
   "metadata": {
    "papermill": {
     "duration": 0.010472,
     "end_time": "2024-10-01T14:54:28.859271",
     "exception": false,
     "start_time": "2024-10-01T14:54:28.848799",
     "status": "completed"
    },
    "tags": []
   },
   "source": [
    "<a id=\"2\"></a>\n",
    "# <div style=\"text-align:center; border-radius:15px 50px; padding:15px; color:white; margin:0; font-size:100%; font-family:Arial; background-color:purple; overflow:hidden\"><b> ✨ Data Exploration (Unique Values) ✨</b></div>"
   ]
  },
  {
   "cell_type": "code",
   "execution_count": 8,
   "id": "2cb2caad",
   "metadata": {
    "execution": {
     "iopub.execute_input": "2024-10-01T14:54:28.883366Z",
     "iopub.status.busy": "2024-10-01T14:54:28.882236Z",
     "iopub.status.idle": "2024-10-01T14:54:28.909075Z",
     "shell.execute_reply": "2024-10-01T14:54:28.907912Z"
    },
    "papermill": {
     "duration": 0.041563,
     "end_time": "2024-10-01T14:54:28.911545",
     "exception": false,
     "start_time": "2024-10-01T14:54:28.869982",
     "status": "completed"
    },
    "tags": []
   },
   "outputs": [
    {
     "data": {
      "text/plain": [
       "(array(['Cruiser', 'Hybrid Bike', 'Folding Bike', 'Mountain Bike', 'BMX',\n",
       "        'Road Bike', 'Electric Bike'], dtype=object),\n",
       " array(['Apple Pay', 'PayPal', 'Google Pay', 'Debit Card', 'Credit Card',\n",
       "        'Cash'], dtype=object))"
      ]
     },
     "execution_count": 8,
     "metadata": {},
     "output_type": "execute_result"
    }
   ],
   "source": [
    "# Checking unique values in categorical columns\n",
    "unique_bike_models = bike_data_cleaned['Bike_Model'].unique()\n",
    "unique_payment_methods = bike_data_cleaned['Payment_Method'].unique()\n",
    "unique_bike_models, unique_payment_methods\n"
   ]
  },
  {
   "cell_type": "markdown",
   "id": "d0da840b",
   "metadata": {
    "papermill": {
     "duration": 0.011018,
     "end_time": "2024-10-01T14:54:28.933583",
     "exception": false,
     "start_time": "2024-10-01T14:54:28.922565",
     "status": "completed"
    },
    "tags": []
   },
   "source": [
    "<a id=\"2\"></a>\n",
    "# <div style=\"text-align:center; border-radius:15px 50px; padding:15px; color:white; margin:0; font-size:100%; font-family:Arial; background-color:purple; overflow:hidden\"><b> ✨ Data Visualization (Sales Distribution) ✨</b></div>"
   ]
  },
  {
   "cell_type": "code",
   "execution_count": 9,
   "id": "4b3f2332",
   "metadata": {
    "execution": {
     "iopub.execute_input": "2024-10-01T14:54:28.957663Z",
     "iopub.status.busy": "2024-10-01T14:54:28.956774Z",
     "iopub.status.idle": "2024-10-01T14:54:29.868088Z",
     "shell.execute_reply": "2024-10-01T14:54:29.866977Z"
    },
    "papermill": {
     "duration": 0.9263,
     "end_time": "2024-10-01T14:54:29.870815",
     "exception": false,
     "start_time": "2024-10-01T14:54:28.944515",
     "status": "completed"
    },
    "tags": []
   },
   "outputs": [
    {
     "data": {
      "image/png": "[encoded data removed]",
      "text/plain": [
       "<Figure size 1000x600 with 1 Axes>"
      ]
     },
     "metadata": {},
     "output_type": "display_data"
    }
   ],
   "source": [
    "# Visualizing the distribution of sales prices\n",
    "plt.figure(figsize=(10, 6))\n",
    "sns.histplot(bike_data_cleaned['Price'], bins=30, kde=True)\n",
    "plt.title('Distribution of Bike Prices')\n",
    "plt.xlabel('Price')\n",
    "plt.ylabel('Frequency')\n",
    "plt.show()\n"
   ]
  },
  {
   "cell_type": "markdown",
   "id": "baaf037c",
   "metadata": {
    "papermill": {
     "duration": 0.011237,
     "end_time": "2024-10-01T14:54:29.893910",
     "exception": false,
     "start_time": "2024-10-01T14:54:29.882673",
     "status": "completed"
    },
    "tags": []
   },
   "source": [
    "<a id=\"2\"></a>\n",
    "# <div style=\"text-align:center; border-radius:15px 50px; padding:15px; color:white; margin:0; font-size:100%; font-family:Arial; background-color:purple; overflow:hidden\"><b> ✨ Data Visualization (Sales by Location) ✨</b></div>"
   ]
  },
  {
   "cell_type": "code",
   "execution_count": 10,
   "id": "32bfed23",
   "metadata": {
    "execution": {
     "iopub.execute_input": "2024-10-01T14:54:29.919401Z",
     "iopub.status.busy": "2024-10-01T14:54:29.918411Z",
     "iopub.status.idle": "2024-10-01T14:54:30.269599Z",
     "shell.execute_reply": "2024-10-01T14:54:30.268548Z"
    },
    "papermill": {
     "duration": 0.366248,
     "end_time": "2024-10-01T14:54:30.271754",
     "exception": false,
     "start_time": "2024-10-01T14:54:29.905506",
     "status": "completed"
    },
    "tags": []
   },
   "outputs": [
    {
     "data": {
      "image/png": "[encoded data removed]",
      "text/plain": [
       "<Figure size 1200x600 with 1 Axes>"
      ]
     },
     "metadata": {},
     "output_type": "display_data"
    }
   ],
   "source": [
    "# Visualizing sales by store location\n",
    "plt.figure(figsize=(12, 6))\n",
    "store_sales = bike_data_cleaned.groupby('Store_Location')['Quantity'].sum().sort_values()\n",
    "store_sales.plot(kind='barh', color='skyblue')\n",
    "plt.title('Total Bike Sales by Store Location')\n",
    "plt.xlabel('Total Quantity Sold')\n",
    "plt.ylabel('Store Location')\n",
    "plt.show()\n"
   ]
  },
  {
   "cell_type": "markdown",
   "id": "9f6392c7",
   "metadata": {
    "papermill": {
     "duration": 0.012037,
     "end_time": "2024-10-01T14:54:30.296254",
     "exception": false,
     "start_time": "2024-10-01T14:54:30.284217",
     "status": "completed"
    },
    "tags": []
   },
   "source": [
    "<a id=\"2\"></a>\n",
    "# <div style=\"text-align:center; border-radius:15px 50px; padding:15px; color:white; margin:0; font-size:100%; font-family:Arial; background-color:purple; overflow:hidden\"><b> ✨ Data Visualization (Sales by Gender) ✨</b></div>"
   ]
  },
  {
   "cell_type": "code",
   "execution_count": 11,
   "id": "097a4940",
   "metadata": {
    "execution": {
     "iopub.execute_input": "2024-10-01T14:54:30.322462Z",
     "iopub.status.busy": "2024-10-01T14:54:30.322015Z",
     "iopub.status.idle": "2024-10-01T14:54:30.475780Z",
     "shell.execute_reply": "2024-10-01T14:54:30.474500Z"
    },
    "papermill": {
     "duration": 0.17066,
     "end_time": "2024-10-01T14:54:30.479154",
     "exception": false,
     "start_time": "2024-10-01T14:54:30.308494",
     "status": "completed"
    },
    "tags": []
   },
   "outputs": [
    {
     "data": {
      "image/png": "[encoded data removed]",
      "text/plain": [
       "<Figure size 800x500 with 1 Axes>"
      ]
     },
     "metadata": {},
     "output_type": "display_data"
    }
   ],
   "source": [
    "# Visualizing sales by customer gender\n",
    "plt.figure(figsize=(8, 5))\n",
    "gender_sales = bike_data_cleaned.groupby('Customer_Gender')['Quantity'].sum()\n",
    "gender_sales.plot(kind='pie', autopct='%1.1f%%', startangle=90, colors=['lightblue', 'lightcoral'])\n",
    "plt.title('Bike Sales Distribution by Customer Gender')\n",
    "plt.ylabel('')\n",
    "plt.show()\n"
   ]
  },
  {
   "cell_type": "markdown",
   "id": "0afdebf8",
   "metadata": {
    "papermill": {
     "duration": 0.021652,
     "end_time": "2024-10-01T14:54:30.523580",
     "exception": false,
     "start_time": "2024-10-01T14:54:30.501928",
     "status": "completed"
    },
    "tags": []
   },
   "source": [
    "<a id=\"2\"></a>\n",
    "# <div style=\"text-align:center; border-radius:15px 50px; padding:15px; color:white; margin:0; font-size:100%; font-family:Arial; background-color:purple; overflow:hidden\"><b> ✨ Data Visualization (Sales Over Time) ✨</b></div>"
   ]
  },
  {
   "cell_type": "code",
   "execution_count": 12,
   "id": "c82a8892",
   "metadata": {
    "execution": {
     "iopub.execute_input": "2024-10-01T14:54:30.557129Z",
     "iopub.status.busy": "2024-10-01T14:54:30.556473Z",
     "iopub.status.idle": "2024-10-01T14:54:31.321908Z",
     "shell.execute_reply": "2024-10-01T14:54:31.320834Z"
    },
    "papermill": {
     "duration": 0.782258,
     "end_time": "2024-10-01T14:54:31.324619",
     "exception": false,
     "start_time": "2024-10-01T14:54:30.542361",
     "status": "completed"
    },
    "tags": []
   },
   "outputs": [
    {
     "data": {
      "image/png": "[encoded data removed]",
      "text/plain": [
       "<Figure size 1200x600 with 1 Axes>"
      ]
     },
     "metadata": {},
     "output_type": "display_data"
    }
   ],
   "source": [
    "# Converting 'Date' to datetime format with dayfirst=True\n",
    "bike_data_cleaned['Date'] = pd.to_datetime(bike_data_cleaned['Date'], dayfirst=True)\n",
    "\n",
    "# Extracting year and month for analysis\n",
    "bike_data_cleaned['Year'] = bike_data_cleaned['Date'].dt.year\n",
    "bike_data_cleaned['Month'] = bike_data_cleaned['Date'].dt.month\n",
    "\n",
    "# Visualizing total sales over time\n",
    "monthly_sales = bike_data_cleaned.groupby(['Year', 'Month'])['Quantity'].sum().unstack()\n",
    "monthly_sales.plot(kind='bar', figsize=(12, 6), colormap='viridis')\n",
    "plt.title('Total Monthly Bike Sales Over the Years')\n",
    "plt.xlabel('Year')\n",
    "plt.ylabel('Total Quantity Sold')\n",
    "plt.xticks(rotation=0)\n",
    "plt.legend(title='Month')\n",
    "plt.show()\n"
   ]
  },
  {
   "cell_type": "markdown",
   "id": "4e8ef3a8",
   "metadata": {
    "papermill": {
     "duration": 0.013219,
     "end_time": "2024-10-01T14:54:31.352152",
     "exception": false,
     "start_time": "2024-10-01T14:54:31.338933",
     "status": "completed"
    },
    "tags": []
   },
   "source": [
    "<a id=\"2\"></a>\n",
    "# <div style=\"text-align:center; border-radius:15px 50px; padding:15px; color:white; margin:0; font-size:100%; font-family:Arial; background-color:purple; overflow:hidden\"><b> ✨ Correlation Analysis ✨</b></div>"
   ]
  },
  {
   "cell_type": "code",
   "execution_count": 13,
   "id": "779b03a6",
   "metadata": {
    "execution": {
     "iopub.execute_input": "2024-10-01T14:54:31.381503Z",
     "iopub.status.busy": "2024-10-01T14:54:31.380641Z",
     "iopub.status.idle": "2024-10-01T14:54:31.843616Z",
     "shell.execute_reply": "2024-10-01T14:54:31.842509Z"
    },
    "papermill": {
     "duration": 0.480595,
     "end_time": "2024-10-01T14:54:31.846441",
     "exception": false,
     "start_time": "2024-10-01T14:54:31.365846",
     "status": "completed"
    },
    "tags": []
   },
   "outputs": [
    {
     "data": {
      "image/png": "[encoded data removed]",
      "text/plain": [
       "<Figure size 1000x800 with 2 Axes>"
      ]
     },
     "metadata": {},
     "output_type": "display_data"
    }
   ],
   "source": [
    "import pandas as pd\n",
    "import seaborn as sns\n",
    "import matplotlib.pyplot as plt\n",
    "\n",
    "# Assuming bike_data_cleaned is your DataFrame\n",
    "\n",
    "# Checking correlation between numerical variables\n",
    "correlation_matrix = bike_data_cleaned.select_dtypes(include=['float64', 'int64']).corr()  # Select only numeric columns\n",
    "\n",
    "plt.figure(figsize=(10, 8))\n",
    "sns.heatmap(correlation_matrix, annot=True, fmt='.2f', cmap='coolwarm', square=True)\n",
    "plt.title('Correlation Matrix')\n",
    "plt.show()\n"
   ]
  },
  {
   "cell_type": "markdown",
   "id": "ac6eec0c",
   "metadata": {
    "papermill": {
     "duration": 0.01452,
     "end_time": "2024-10-01T14:54:31.876197",
     "exception": false,
     "start_time": "2024-10-01T14:54:31.861677",
     "status": "completed"
    },
    "tags": []
   },
   "source": [
    "<a id=\"2\"></a>\n",
    "# <div style=\"text-align:center; border-radius:15px 50px; padding:15px; color:white; margin:0; font-size:100%; font-family:Arial; background-color:purple; overflow:hidden\"><b> ✨ Machine Learning (Preparing Data for Modeling) ✨</b></div>"
   ]
  },
  {
   "cell_type": "code",
   "execution_count": 14,
   "id": "01e11f45",
   "metadata": {
    "execution": {
     "iopub.execute_input": "2024-10-01T14:54:31.907894Z",
     "iopub.status.busy": "2024-10-01T14:54:31.907126Z",
     "iopub.status.idle": "2024-10-01T14:54:31.978521Z",
     "shell.execute_reply": "2024-10-01T14:54:31.977442Z"
    },
    "papermill": {
     "duration": 0.090333,
     "end_time": "2024-10-01T14:54:31.981244",
     "exception": false,
     "start_time": "2024-10-01T14:54:31.890911",
     "status": "completed"
    },
    "tags": []
   },
   "outputs": [],
   "source": [
    "# Preparing data for machine learning\n",
    "# Encoding categorical variables\n",
    "bike_data_ml = pd.get_dummies(bike_data_cleaned, columns=['Bike_Model', 'Store_Location', 'Payment_Method', 'Customer_Gender'], drop_first=True)\n",
    "\n",
    "# Splitting features and target variable\n",
    "X = bike_data_ml.drop(['Sale_ID', 'Date', 'Customer_ID', 'Quantity'], axis=1)\n",
    "y = bike_data_ml['Quantity']\n"
   ]
  },
  {
   "cell_type": "markdown",
   "id": "c3818ed4",
   "metadata": {
    "papermill": {
     "duration": 0.01478,
     "end_time": "2024-10-01T14:54:32.010719",
     "exception": false,
     "start_time": "2024-10-01T14:54:31.995939",
     "status": "completed"
    },
    "tags": []
   },
   "source": [
    "<a id=\"2\"></a>\n",
    "# <div style=\"text-align:center; border-radius:15px 50px; padding:15px; color:white; margin:0; font-size:100%; font-family:Arial; background-color:purple; overflow:hidden\"><b> ✨ Splitting the Dataset ✨</b></div>"
   ]
  },
  {
   "cell_type": "code",
   "execution_count": 15,
   "id": "a182a162",
   "metadata": {
    "execution": {
     "iopub.execute_input": "2024-10-01T14:54:32.042951Z",
     "iopub.status.busy": "2024-10-01T14:54:32.042555Z",
     "iopub.status.idle": "2024-10-01T14:54:32.319465Z",
     "shell.execute_reply": "2024-10-01T14:54:32.318300Z"
    },
    "papermill": {
     "duration": 0.296214,
     "end_time": "2024-10-01T14:54:32.322122",
     "exception": false,
     "start_time": "2024-10-01T14:54:32.025908",
     "status": "completed"
    },
    "tags": []
   },
   "outputs": [],
   "source": [
    "# Splitting the dataset into training and testing sets\n",
    "from sklearn.model_selection import train_test_split\n",
    "\n",
    "X_train, X_test, y_train, y_test = train_test_split(X, y, test_size=0.2, random_state=42)\n"
   ]
  },
  {
   "cell_type": "markdown",
   "id": "002c5698",
   "metadata": {
    "papermill": {
     "duration": 0.015234,
     "end_time": "2024-10-01T14:54:32.352282",
     "exception": false,
     "start_time": "2024-10-01T14:54:32.337048",
     "status": "completed"
    },
    "tags": []
   },
   "source": [
    "<a id=\"2\"></a>\n",
    "# <div style=\"text-align:center; border-radius:15px 50px; padding:15px; color:white; margin:0; font-size:100%; font-family:Arial; background-color:purple; overflow:hidden\"><b> ✨ Training a Simple Model (Random Forest) ✨</b></div>"
   ]
  },
  {
   "cell_type": "code",
   "execution_count": 16,
   "id": "2bee367e",
   "metadata": {
    "execution": {
     "iopub.execute_input": "2024-10-01T14:54:32.393515Z",
     "iopub.status.busy": "2024-10-01T14:54:32.392504Z",
     "iopub.status.idle": "2024-10-01T14:55:43.034077Z",
     "shell.execute_reply": "2024-10-01T14:55:43.032904Z"
    },
    "papermill": {
     "duration": 70.680726,
     "end_time": "2024-10-01T14:55:43.051634",
     "exception": false,
     "start_time": "2024-10-01T14:54:32.370908",
     "status": "completed"
    },
    "tags": []
   },
   "outputs": [
    {
     "data": {
      "text/html": [
       "<style>#sk-container-id-1 {color: black;background-color: white;}#sk-container-id-1 pre{padding: 0;}#sk-container-id-1 div.sk-toggleable {background-color: white;}#sk-container-id-1 label.sk-toggleable__label {cursor: pointer;display: block;width: 100%;margin-bottom: 0;padding: 0.3em;box-sizing: border-box;text-align: center;}#sk-container-id-1 label.sk-toggleable__label-arrow:before {content: \"▸\";float: left;margin-right: 0.25em;color: #696969;}#sk-container-id-1 label.sk-toggleable__label-arrow:hover:before {color: black;}#sk-container-id-1 div.sk-estimator:hover label.sk-toggleable__label-arrow:before {color: black;}#sk-container-id-1 div.sk-toggleable__content {max-height: 0;max-width: 0;overflow: hidden;text-align: left;background-color: #f0f8ff;}#sk-container-id-1 div.sk-toggleable__content pre {margin: 0.2em;color: black;border-radius: 0.25em;background-color: #f0f8ff;}#sk-container-id-1 input.sk-toggleable__control:checked~div.sk-toggleable__content {max-height: 200px;max-width: 100%;overflow: auto;}#sk-container-id-1 input.sk-toggleable__control:checked~label.sk-toggleable__label-arrow:before {content: \"▾\";}#sk-container-id-1 div.sk-estimator input.sk-toggleable__control:checked~label.sk-toggleable__label {background-color: #d4ebff;}#sk-container-id-1 div.sk-label input.sk-toggleable__control:checked~label.sk-toggleable__label {background-color: #d4ebff;}#sk-container-id-1 input.sk-hidden--visually {border: 0;clip: rect(1px 1px 1px 1px);clip: rect(1px, 1px, 1px, 1px);height: 1px;margin: -1px;overflow: hidden;padding: 0;position: absolute;width: 1px;}#sk-container-id-1 div.sk-estimator {font-family: monospace;background-color: #f0f8ff;border: 1px dotted black;border-radius: 0.25em;box-sizing: border-box;margin-bottom: 0.5em;}#sk-container-id-1 div.sk-estimator:hover {background-color: #d4ebff;}#sk-container-id-1 div.sk-parallel-item::after {content: \"\";width: 100%;border-bottom: 1px solid gray;flex-grow: 1;}#sk-container-id-1 div.sk-label:hover label.sk-toggleable__label {background-color: #d4ebff;}#sk-container-id-1 div.sk-serial::before {content: \"\";position: absolute;border-left: 1px solid gray;box-sizing: border-box;top: 0;bottom: 0;left: 50%;z-index: 0;}#sk-container-id-1 div.sk-serial {display: flex;flex-direction: column;align-items: center;background-color: white;padding-right: 0.2em;padding-left: 0.2em;position: relative;}#sk-container-id-1 div.sk-item {position: relative;z-index: 1;}#sk-container-id-1 div.sk-parallel {display: flex;align-items: stretch;justify-content: center;background-color: white;position: relative;}#sk-container-id-1 div.sk-item::before, #sk-container-id-1 div.sk-parallel-item::before {content: \"\";position: absolute;border-left: 1px solid gray;box-sizing: border-box;top: 0;bottom: 0;left: 50%;z-index: -1;}#sk-container-id-1 div.sk-parallel-item {display: flex;flex-direction: column;z-index: 1;position: relative;background-color: white;}#sk-container-id-1 div.sk-parallel-item:first-child::after {align-self: flex-end;width: 50%;}#sk-container-id-1 div.sk-parallel-item:last-child::after {align-self: flex-start;width: 50%;}#sk-container-id-1 div.sk-parallel-item:only-child::after {width: 0;}#sk-container-id-1 div.sk-dashed-wrapped {border: 1px dashed gray;margin: 0 0.4em 0.5em 0.4em;box-sizing: border-box;padding-bottom: 0.4em;background-color: white;}#sk-container-id-1 div.sk-label label {font-family: monospace;font-weight: bold;display: inline-block;line-height: 1.2em;}#sk-container-id-1 div.sk-label-container {text-align: center;}#sk-container-id-1 div.sk-container {/* jupyter's `normalize.less` sets `[hidden] { display: none; }` but bootstrap.min.css set `[hidden] { display: none !important; }` so we also need the `!important` here to be able to override the default hidden behavior on the sphinx rendered scikit-learn.org. See: https://github.com/scikit-learn/scikit-learn/issues/21755 */display: inline-block !important;position: relative;}#sk-container-id-1 div.sk-text-repr-fallback {display: none;}</style><div id=\"sk-container-id-1\" class=\"sk-top-container\"><div class=\"sk-text-repr-fallback\"><pre>RandomForestRegressor(random_state=42)</pre><b>In a Jupyter environment, please rerun this cell to show the HTML representation or trust the notebook. <br />On GitHub, the HTML representation is unable to render, please try loading this page with nbviewer.org.</b></div><div class=\"sk-container\" hidden><div class=\"sk-item\"><div class=\"sk-estimator sk-toggleable\"><input class=\"sk-toggleable__control sk-hidden--visually\" id=\"sk-estimator-id-1\" type=\"checkbox\" checked><label for=\"sk-estimator-id-1\" class=\"sk-toggleable__label sk-toggleable__label-arrow\">RandomForestRegressor</label><div class=\"sk-toggleable__content\"><pre>RandomForestRegressor(random_state=42)</pre></div></div></div></div></div>"
      ],
      "text/plain": [
       "RandomForestRegressor(random_state=42)"
      ]
     },
     "execution_count": 16,
     "metadata": {},
     "output_type": "execute_result"
    }
   ],
   "source": [
    "# Importing the Random Forest model\n",
    "from sklearn.ensemble import RandomForestRegressor\n",
    "from sklearn.metrics import mean_squared_error, r2_score\n",
    "\n",
    "# Initializing and training the model\n",
    "model = RandomForestRegressor(n_estimators=100, random_state=42)\n",
    "model.fit(X_train, y_train)\n"
   ]
  },
  {
   "cell_type": "markdown",
   "id": "c8a7fc0c",
   "metadata": {
    "papermill": {
     "duration": 0.014616,
     "end_time": "2024-10-01T14:55:43.081090",
     "exception": false,
     "start_time": "2024-10-01T14:55:43.066474",
     "status": "completed"
    },
    "tags": []
   },
   "source": [
    "<a id=\"2\"></a>\n",
    "# <div style=\"text-align:center; border-radius:15px 50px; padding:15px; color:white; margin:0; font-size:100%; font-family:Arial; background-color:purple; overflow:hidden\"><b> ✨ Making Predictions ✨</b></div>"
   ]
  },
  {
   "cell_type": "code",
   "execution_count": 17,
   "id": "903d2f6a",
   "metadata": {
    "execution": {
     "iopub.execute_input": "2024-10-01T14:55:43.112860Z",
     "iopub.status.busy": "2024-10-01T14:55:43.112428Z",
     "iopub.status.idle": "2024-10-01T14:55:43.947231Z",
     "shell.execute_reply": "2024-10-01T14:55:43.946214Z"
    },
    "papermill": {
     "duration": 0.853914,
     "end_time": "2024-10-01T14:55:43.949888",
     "exception": false,
     "start_time": "2024-10-01T14:55:43.095974",
     "status": "completed"
    },
    "tags": []
   },
   "outputs": [],
   "source": [
    "# Making predictions on the test set\n",
    "y_pred = model.predict(X_test)\n"
   ]
  },
  {
   "cell_type": "markdown",
   "id": "79e8d756",
   "metadata": {
    "papermill": {
     "duration": 0.014819,
     "end_time": "2024-10-01T14:55:43.979844",
     "exception": false,
     "start_time": "2024-10-01T14:55:43.965025",
     "status": "completed"
    },
    "tags": []
   },
   "source": [
    "<a id=\"2\"></a>\n",
    "# <div style=\"text-align:center; border-radius:15px 50px; padding:15px; color:white; margin:0; font-size:100%; font-family:Arial; background-color:purple; overflow:hidden\"><b> ✨ Evaluating the Model ✨</b></div>"
   ]
  },
  {
   "cell_type": "code",
   "execution_count": 18,
   "id": "d97b57c6",
   "metadata": {
    "execution": {
     "iopub.execute_input": "2024-10-01T14:55:44.011634Z",
     "iopub.status.busy": "2024-10-01T14:55:44.011209Z",
     "iopub.status.idle": "2024-10-01T14:55:44.020707Z",
     "shell.execute_reply": "2024-10-01T14:55:44.019659Z"
    },
    "papermill": {
     "duration": 0.027839,
     "end_time": "2024-10-01T14:55:44.022750",
     "exception": false,
     "start_time": "2024-10-01T14:55:43.994911",
     "status": "completed"
    },
    "tags": []
   },
   "outputs": [
    {
     "data": {
      "text/plain": [
       "(2.0889428899999998, -0.03239450568691282)"
      ]
     },
     "execution_count": 18,
     "metadata": {},
     "output_type": "execute_result"
    }
   ],
   "source": [
    "# Evaluating model performance\n",
    "mse = mean_squared_error(y_test, y_pred)\n",
    "r2 = r2_score(y_test, y_pred)\n",
    "\n",
    "mse, r2\n"
   ]
  },
  {
   "cell_type": "markdown",
   "id": "c897af61",
   "metadata": {
    "papermill": {
     "duration": 0.014656,
     "end_time": "2024-10-01T14:55:44.052468",
     "exception": false,
     "start_time": "2024-10-01T14:55:44.037812",
     "status": "completed"
    },
    "tags": []
   },
   "source": [
    "<a id=\"2\"></a>\n",
    "# <div style=\"text-align:center; border-radius:15px 50px; padding:15px; color:white; margin:0; font-size:100%; font-family:Arial; background-color:purple; overflow:hidden\"><b> ✨ Feature Importance ✨</b></div>"
   ]
  },
  {
   "cell_type": "code",
   "execution_count": 19,
   "id": "a11765b4",
   "metadata": {
    "execution": {
     "iopub.execute_input": "2024-10-01T14:55:44.084832Z",
     "iopub.status.busy": "2024-10-01T14:55:44.083972Z",
     "iopub.status.idle": "2024-10-01T14:55:44.769498Z",
     "shell.execute_reply": "2024-10-01T14:55:44.768451Z"
    },
    "papermill": {
     "duration": 0.704229,
     "end_time": "2024-10-01T14:55:44.771805",
     "exception": false,
     "start_time": "2024-10-01T14:55:44.067576",
     "status": "completed"
    },
    "tags": []
   },
   "outputs": [
    {
     "data": {
      "image/png": "[encoded data removed]",
      "text/plain": [
       "<Figure size 1200x600 with 1 Axes>"
      ]
     },
     "metadata": {},
     "output_type": "display_data"
    }
   ],
   "source": [
    "# Displaying feature importances\n",
    "importances = model.feature_importances_\n",
    "indices = np.argsort(importances)[::-1]\n",
    "\n",
    "# Plotting the feature importances\n",
    "plt.figure(figsize=(12, 6))\n",
    "plt.title('Feature Importances')\n",
    "plt.bar(range(X.shape[1]), importances[indices], align='center')\n",
    "plt.xticks(range(X.shape[1]), X.columns[indices], rotation=90)\n",
    "plt.xlim([-1, X.shape[1]])\n",
    "plt.show()\n"
   ]
  },
  {
   "cell_type": "markdown",
   "id": "8a99bb0e",
   "metadata": {
    "papermill": {
     "duration": 0.016673,
     "end_time": "2024-10-01T14:55:44.805583",
     "exception": false,
     "start_time": "2024-10-01T14:55:44.788910",
     "status": "completed"
    },
    "tags": []
   },
   "source": [
    "<a id=\"2\"></a>\n",
    "# <div style=\"text-align:center; border-radius:15px 50px; padding:15px; color:white; margin:0; font-size:100%; font-family:Arial; background-color:purple; overflow:hidden\"><b> ✨ Hyperparameter Tuning ✨</b></div>"
   ]
  },
  {
   "cell_type": "code",
   "execution_count": 20,
   "id": "181cc670",
   "metadata": {
    "execution": {
     "iopub.execute_input": "2024-10-01T14:55:44.841503Z",
     "iopub.status.busy": "2024-10-01T14:55:44.840711Z",
     "iopub.status.idle": "2024-10-01T16:14:03.945668Z",
     "shell.execute_reply": "2024-10-01T16:14:03.944307Z"
    },
    "papermill": {
     "duration": 4699.141247,
     "end_time": "2024-10-01T16:14:03.963845",
     "exception": false,
     "start_time": "2024-10-01T14:55:44.822598",
     "status": "completed"
    },
    "tags": []
   },
   "outputs": [
    {
     "name": "stdout",
     "output_type": "stream",
     "text": [
      "Fitting 3 folds for each of 108 candidates, totalling 324 fits\n",
      "[CV] END max_depth=None, min_samples_leaf=1, min_samples_split=2, n_estimators=50; total time=  34.1s\n",
      "[CV] END max_depth=None, min_samples_leaf=1, min_samples_split=2, n_estimators=100; total time= 1.1min\n",
      "[CV] END max_depth=None, min_samples_leaf=1, min_samples_split=2, n_estimators=200; total time= 2.4min\n",
      "[CV] END max_depth=None, min_samples_leaf=1, min_samples_split=2, n_estimators=50; total time=  34.8s\n",
      "[CV] END max_depth=None, min_samples_leaf=1, min_samples_split=2, n_estimators=100; total time= 1.2min\n",
      "[CV] END max_depth=None, min_samples_leaf=1, min_samples_split=5, n_estimators=50; total time=  33.1s\n",
      "[CV] END max_depth=None, min_samples_leaf=1, min_samples_split=5, n_estimators=50; total time=  32.0s\n",
      "[CV] END max_depth=None, min_samples_leaf=1, min_samples_split=5, n_estimators=50; total time=  33.2s\n",
      "[CV] END max_depth=None, min_samples_leaf=1, min_samples_split=5, n_estimators=100; total time= 1.1min\n",
      "[CV] END max_depth=None, min_samples_leaf=1, min_samples_split=5, n_estimators=200; total time= 2.2min\n",
      "[CV] END max_depth=None, min_samples_leaf=1, min_samples_split=10, n_estimators=200; total time= 2.1min\n",
      "[CV] END max_depth=None, min_samples_leaf=2, min_samples_split=2, n_estimators=100; total time= 1.1min\n",
      "[CV] END max_depth=None, min_samples_leaf=2, min_samples_split=2, n_estimators=200; total time= 2.1min\n",
      "[CV] END max_depth=None, min_samples_leaf=2, min_samples_split=5, n_estimators=100; total time= 1.1min\n",
      "[CV] END max_depth=None, min_samples_leaf=2, min_samples_split=10, n_estimators=50; total time=  30.4s\n",
      "[CV] END max_depth=None, min_samples_leaf=2, min_samples_split=10, n_estimators=50; total time=  29.3s\n",
      "[CV] END max_depth=None, min_samples_leaf=2, min_samples_split=10, n_estimators=50; total time=  30.5s\n",
      "[CV] END max_depth=None, min_samples_leaf=2, min_samples_split=10, n_estimators=100; total time=  59.5s\n",
      "[CV] END max_depth=None, min_samples_leaf=2, min_samples_split=10, n_estimators=200; total time= 2.1min\n",
      "[CV] END max_depth=None, min_samples_leaf=4, min_samples_split=2, n_estimators=200; total time= 1.9min\n",
      "[CV] END max_depth=None, min_samples_leaf=4, min_samples_split=5, n_estimators=100; total time=  57.8s\n",
      "[CV] END max_depth=None, min_samples_leaf=4, min_samples_split=5, n_estimators=200; total time= 1.9min\n",
      "[CV] END max_depth=None, min_samples_leaf=4, min_samples_split=10, n_estimators=100; total time=  59.1s\n",
      "[CV] END max_depth=10, min_samples_leaf=1, min_samples_split=2, n_estimators=50; total time=  12.7s\n",
      "[CV] END max_depth=10, min_samples_leaf=1, min_samples_split=2, n_estimators=50; total time=  12.7s\n",
      "[CV] END max_depth=10, min_samples_leaf=1, min_samples_split=2, n_estimators=50; total time=  13.4s\n",
      "[CV] END max_depth=10, min_samples_leaf=1, min_samples_split=2, n_estimators=100; total time=  26.1s\n",
      "[CV] END max_depth=10, min_samples_leaf=1, min_samples_split=2, n_estimators=100; total time=  25.4s\n",
      "[CV] END max_depth=10, min_samples_leaf=1, min_samples_split=2, n_estimators=200; total time=  51.5s\n",
      "[CV] END max_depth=10, min_samples_leaf=1, min_samples_split=5, n_estimators=100; total time=  26.0s\n",
      "[CV] END max_depth=10, min_samples_leaf=1, min_samples_split=5, n_estimators=200; total time=  51.3s\n",
      "[CV] END max_depth=10, min_samples_leaf=1, min_samples_split=10, n_estimators=100; total time=  25.9s\n",
      "[CV] END max_depth=10, min_samples_leaf=2, min_samples_split=2, n_estimators=50; total time=  12.7s\n",
      "[CV] END max_depth=10, min_samples_leaf=2, min_samples_split=2, n_estimators=50; total time=  12.8s\n",
      "[CV] END max_depth=10, min_samples_leaf=2, min_samples_split=2, n_estimators=50; total time=  12.6s\n",
      "[CV] END max_depth=10, min_samples_leaf=2, min_samples_split=2, n_estimators=100; total time=  26.0s\n",
      "[CV] END max_depth=10, min_samples_leaf=2, min_samples_split=2, n_estimators=200; total time=  52.2s\n",
      "[CV] END max_depth=10, min_samples_leaf=2, min_samples_split=5, n_estimators=200; total time=  51.8s\n",
      "[CV] END max_depth=10, min_samples_leaf=2, min_samples_split=10, n_estimators=100; total time=  25.9s\n",
      "[CV] END max_depth=10, min_samples_leaf=2, min_samples_split=10, n_estimators=200; total time=  51.6s\n",
      "[CV] END max_depth=10, min_samples_leaf=4, min_samples_split=2, n_estimators=100; total time=  25.6s\n",
      "[CV] END max_depth=10, min_samples_leaf=4, min_samples_split=2, n_estimators=200; total time=  52.6s\n",
      "[CV] END max_depth=10, min_samples_leaf=4, min_samples_split=5, n_estimators=200; total time=  52.8s\n",
      "[CV] END max_depth=10, min_samples_leaf=4, min_samples_split=10, n_estimators=100; total time=  25.5s\n",
      "[CV] END max_depth=10, min_samples_leaf=4, min_samples_split=10, n_estimators=200; total time=  52.9s\n",
      "[CV] END max_depth=20, min_samples_leaf=1, min_samples_split=2, n_estimators=100; total time=  49.1s\n",
      "[CV] END max_depth=20, min_samples_leaf=1, min_samples_split=2, n_estimators=200; total time= 1.7min\n",
      "[CV] END max_depth=20, min_samples_leaf=1, min_samples_split=5, n_estimators=100; total time=  49.4s\n",
      "[CV] END max_depth=20, min_samples_leaf=1, min_samples_split=10, n_estimators=50; total time=  24.1s\n",
      "[CV] END max_depth=20, min_samples_leaf=1, min_samples_split=10, n_estimators=50; total time=  23.1s\n",
      "[CV] END max_depth=20, min_samples_leaf=1, min_samples_split=10, n_estimators=50; total time=  24.4s\n",
      "[CV] END max_depth=20, min_samples_leaf=1, min_samples_split=10, n_estimators=100; total time=  47.9s\n",
      "[CV] END max_depth=20, min_samples_leaf=2, min_samples_split=2, n_estimators=50; total time=  23.7s\n",
      "[CV] END max_depth=20, min_samples_leaf=2, min_samples_split=2, n_estimators=50; total time=  24.6s\n",
      "[CV] END max_depth=20, min_samples_leaf=2, min_samples_split=2, n_estimators=50; total time=  25.0s\n",
      "[CV] END max_depth=20, min_samples_leaf=2, min_samples_split=2, n_estimators=100; total time=  48.5s\n",
      "[CV] END max_depth=20, min_samples_leaf=2, min_samples_split=2, n_estimators=200; total time= 1.6min\n",
      "[CV] END max_depth=20, min_samples_leaf=2, min_samples_split=5, n_estimators=200; total time= 1.6min\n",
      "[CV] END max_depth=20, min_samples_leaf=2, min_samples_split=10, n_estimators=100; total time=  47.3s\n",
      "[CV] END max_depth=20, min_samples_leaf=2, min_samples_split=10, n_estimators=200; total time= 1.5min\n",
      "[CV] END max_depth=20, min_samples_leaf=4, min_samples_split=2, n_estimators=100; total time=  48.6s\n",
      "[CV] END max_depth=20, min_samples_leaf=4, min_samples_split=5, n_estimators=50; total time=  24.1s\n",
      "[CV] END max_depth=20, min_samples_leaf=4, min_samples_split=5, n_estimators=50; total time=  22.7s\n",
      "[CV] END max_depth=20, min_samples_leaf=4, min_samples_split=5, n_estimators=50; total time=  23.7s\n",
      "[CV] END max_depth=20, min_samples_leaf=4, min_samples_split=5, n_estimators=100; total time=  47.1s\n",
      "[CV] END max_depth=20, min_samples_leaf=4, min_samples_split=10, n_estimators=50; total time=  23.3s\n",
      "[CV] END max_depth=20, min_samples_leaf=4, min_samples_split=10, n_estimators=50; total time=  23.0s\n",
      "[CV] END max_depth=20, min_samples_leaf=4, min_samples_split=10, n_estimators=50; total time=  23.0s\n",
      "[CV] END max_depth=20, min_samples_leaf=4, min_samples_split=10, n_estimators=100; total time=  45.3s\n",
      "[CV] END max_depth=20, min_samples_leaf=4, min_samples_split=10, n_estimators=200; total time= 1.5min\n",
      "[CV] END max_depth=30, min_samples_leaf=1, min_samples_split=2, n_estimators=100; total time= 1.1min\n",
      "[CV] END max_depth=30, min_samples_leaf=1, min_samples_split=5, n_estimators=50; total time=  30.6s\n",
      "[CV] END max_depth=30, min_samples_leaf=1, min_samples_split=5, n_estimators=50; total time=  30.1s\n",
      "[CV] END max_depth=30, min_samples_leaf=1, min_samples_split=5, n_estimators=50; total time=  30.1s\n",
      "[CV] END max_depth=30, min_samples_leaf=1, min_samples_split=5, n_estimators=100; total time= 1.0min\n",
      "[CV] END max_depth=30, min_samples_leaf=1, min_samples_split=5, n_estimators=200; total time= 2.1min\n",
      "[CV] END max_depth=30, min_samples_leaf=1, min_samples_split=10, n_estimators=200; total time= 1.9min\n",
      "[CV] END max_depth=30, min_samples_leaf=2, min_samples_split=2, n_estimators=100; total time=  59.6s\n",
      "[CV] END max_depth=30, min_samples_leaf=2, min_samples_split=2, n_estimators=200; total time= 2.0min\n",
      "[CV] END max_depth=30, min_samples_leaf=2, min_samples_split=5, n_estimators=100; total time= 1.0min\n",
      "[CV] END max_depth=30, min_samples_leaf=2, min_samples_split=10, n_estimators=50; total time=  29.7s\n",
      "[CV] END max_depth=30, min_samples_leaf=2, min_samples_split=10, n_estimators=50; total time=  28.4s\n",
      "[CV] END max_depth=30, min_samples_leaf=2, min_samples_split=10, n_estimators=50; total time=  28.9s\n"
     ]
    },
    {
     "data": {
      "text/plain": [
       "{'max_depth': 10,\n",
       " 'min_samples_leaf': 1,\n",
       " 'min_samples_split': 10,\n",
       " 'n_estimators': 200}"
      ]
     },
     "execution_count": 20,
     "metadata": {},
     "output_type": "execute_result"
    }
   ],
   "source": [
    "# Performing hyperparameter tuning using GridSearchCV\n",
    "from sklearn.model_selection import GridSearchCV\n",
    "\n",
    "# Defining the parameter grid\n",
    "param_grid = {\n",
    "    'n_estimators': [50, 100, 200],\n",
    "    'max_depth': [None, 10, 20, 30],\n",
    "    'min_samples_split': [2, 5, 10],\n",
    "    'min_samples_leaf': [1, 2, 4]\n",
    "}\n",
    "\n",
    "# Initializing the GridSearchCV with cross-validation\n",
    "grid_search = GridSearchCV(estimator=RandomForestRegressor(random_state=42), param_grid=param_grid, \n",
    "                           cv=3, n_jobs=-1, verbose=2)\n",
    "\n",
    "# Fitting the grid search model\n",
    "grid_search.fit(X_train, y_train)\n",
    "\n",
    "# Displaying the best parameters\n",
    "grid_search.best_params_\n"
   ]
  },
  {
   "cell_type": "markdown",
   "id": "4a712714",
   "metadata": {
    "papermill": {
     "duration": 0.017652,
     "end_time": "2024-10-01T16:14:03.998910",
     "exception": false,
     "start_time": "2024-10-01T16:14:03.981258",
     "status": "completed"
    },
    "tags": []
   },
   "source": [
    "<a id=\"2\"></a>\n",
    "# <div style=\"text-align:center; border-radius:15px 50px; padding:15px; color:white; margin:0; font-size:100%; font-family:Arial; background-color:purple; overflow:hidden\"><b> ✨ Evaluating the Tuned Model ✨</b></div>"
   ]
  },
  {
   "cell_type": "code",
   "execution_count": 21,
   "id": "28034f99",
   "metadata": {
    "execution": {
     "iopub.execute_input": "2024-10-01T16:14:04.036342Z",
     "iopub.status.busy": "2024-10-01T16:14:04.035883Z",
     "iopub.status.idle": "2024-10-01T16:14:04.288401Z",
     "shell.execute_reply": "2024-10-01T16:14:04.287266Z"
    },
    "papermill": {
     "duration": 0.274081,
     "end_time": "2024-10-01T16:14:04.290928",
     "exception": false,
     "start_time": "2024-10-01T16:14:04.016847",
     "status": "completed"
    },
    "tags": []
   },
   "outputs": [
    {
     "data": {
      "text/plain": [
       "(2.026894211540339, -0.0017288924556733143)"
      ]
     },
     "execution_count": 21,
     "metadata": {},
     "output_type": "execute_result"
    }
   ],
   "source": [
    "# Evaluating the best model from Grid Search\n",
    "best_rf_model = grid_search.best_estimator_\n",
    "\n",
    "# Predicting on the test set with the best model\n",
    "y_pred_best = best_rf_model.predict(X_test)\n",
    "\n",
    "# Calculating evaluation metrics for the best model\n",
    "mse_best = mean_squared_error(y_test, y_pred_best)\n",
    "r2_best = r2_score(y_test, y_pred_best)\n",
    "\n",
    "mse_best, r2_best\n"
   ]
  },
  {
   "cell_type": "markdown",
   "id": "e64fa145",
   "metadata": {
    "papermill": {
     "duration": 0.017378,
     "end_time": "2024-10-01T16:14:04.326119",
     "exception": false,
     "start_time": "2024-10-01T16:14:04.308741",
     "status": "completed"
    },
    "tags": []
   },
   "source": [
    "<a id=\"2\"></a>\n",
    "# <div style=\"text-align:center; border-radius:15px 50px; padding:15px; color:white; margin:0; font-size:100%; font-family:Arial; background-color:purple; overflow:hidden\"><b> ✨ Comparison of Models (Before and After Tuning) ✨</b></div>"
   ]
  },
  {
   "cell_type": "code",
   "execution_count": 22,
   "id": "c179e79e",
   "metadata": {
    "execution": {
     "iopub.execute_input": "2024-10-01T16:14:04.362833Z",
     "iopub.status.busy": "2024-10-01T16:14:04.362408Z",
     "iopub.status.idle": "2024-10-01T16:14:04.375961Z",
     "shell.execute_reply": "2024-10-01T16:14:04.374761Z"
    },
    "papermill": {
     "duration": 0.03449,
     "end_time": "2024-10-01T16:14:04.378096",
     "exception": false,
     "start_time": "2024-10-01T16:14:04.343606",
     "status": "completed"
    },
    "tags": []
   },
   "outputs": [
    {
     "data": {
      "text/html": [
       "<div>\n",
       "<style scoped>\n",
       "    .dataframe tbody tr th:only-of-type {\n",
       "        vertical-align: middle;\n",
       "    }\n",
       "\n",
       "    .dataframe tbody tr th {\n",
       "        vertical-align: top;\n",
       "    }\n",
       "\n",
       "    .dataframe thead th {\n",
       "        text-align: right;\n",
       "    }\n",
       "</style>\n",
       "<table border=\"1\" class=\"dataframe\">\n",
       "  <thead>\n",
       "    <tr style=\"text-align: right;\">\n",
       "      <th></th>\n",
       "      <th>Model</th>\n",
       "      <th>MSE</th>\n",
       "      <th>R2 Score</th>\n",
       "    </tr>\n",
       "  </thead>\n",
       "  <tbody>\n",
       "    <tr>\n",
       "      <th>0</th>\n",
       "      <td>Before Tuning</td>\n",
       "      <td>2.088943</td>\n",
       "      <td>-0.032395</td>\n",
       "    </tr>\n",
       "    <tr>\n",
       "      <th>1</th>\n",
       "      <td>After Tuning</td>\n",
       "      <td>2.026894</td>\n",
       "      <td>-0.001729</td>\n",
       "    </tr>\n",
       "  </tbody>\n",
       "</table>\n",
       "</div>"
      ],
      "text/plain": [
       "           Model       MSE  R2 Score\n",
       "0  Before Tuning  2.088943 -0.032395\n",
       "1   After Tuning  2.026894 -0.001729"
      ]
     },
     "execution_count": 22,
     "metadata": {},
     "output_type": "execute_result"
    }
   ],
   "source": [
    "# Comparing R-squared and MSE before and after tuning\n",
    "comparison = pd.DataFrame({\n",
    "    'Model': ['Before Tuning', 'After Tuning'],\n",
    "    'MSE': [mse, mse_best],\n",
    "    'R2 Score': [r2, r2_best]\n",
    "})\n",
    "\n",
    "comparison\n"
   ]
  },
  {
   "cell_type": "markdown",
   "id": "fab3fd1e",
   "metadata": {
    "papermill": {
     "duration": 0.017587,
     "end_time": "2024-10-01T16:14:04.413484",
     "exception": false,
     "start_time": "2024-10-01T16:14:04.395897",
     "status": "completed"
    },
    "tags": []
   },
   "source": [
    "<a id=\"2\"></a>\n",
    "# <div style=\"text-align:center; border-radius:15px 50px; padding:15px; color:white; margin:0; font-size:100%; font-family:Arial; background-color:purple; overflow:hidden\"><b> ✨ Cross-Validation (K-Fold Cross Validation) ✨</b></div>"
   ]
  },
  {
   "cell_type": "code",
   "execution_count": 23,
   "id": "d11448ce",
   "metadata": {
    "execution": {
     "iopub.execute_input": "2024-10-01T16:14:04.451186Z",
     "iopub.status.busy": "2024-10-01T16:14:04.450792Z",
     "iopub.status.idle": "2024-10-01T16:17:31.879831Z",
     "shell.execute_reply": "2024-10-01T16:17:31.878679Z"
    },
    "papermill": {
     "duration": 207.46863,
     "end_time": "2024-10-01T16:17:31.899975",
     "exception": false,
     "start_time": "2024-10-01T16:14:04.431345",
     "status": "completed"
    },
    "tags": []
   },
   "outputs": [
    {
     "name": "stdout",
     "output_type": "stream",
     "text": [
      "[CV] END max_depth=30, min_samples_leaf=2, min_samples_split=10, n_estimators=100; total time=  56.3s\n",
      "[CV] END max_depth=30, min_samples_leaf=2, min_samples_split=10, n_estimators=200; total time= 2.0min\n",
      "[CV] END max_depth=30, min_samples_leaf=4, min_samples_split=2, n_estimators=200; total time= 1.9min\n",
      "[CV] END max_depth=30, min_samples_leaf=4, min_samples_split=5, n_estimators=100; total time=  57.3s\n",
      "[CV] END max_depth=30, min_samples_leaf=4, min_samples_split=5, n_estimators=200; total time= 1.9min\n",
      "[CV] END max_depth=30, min_samples_leaf=4, min_samples_split=10, n_estimators=100; total time=  56.3s\n"
     ]
    },
    {
     "data": {
      "text/plain": [
       "(1.997454641661345, 0.013321128669805851)"
      ]
     },
     "execution_count": 23,
     "metadata": {},
     "output_type": "execute_result"
    }
   ],
   "source": [
    "# Performing K-Fold Cross-Validation\n",
    "from sklearn.model_selection import cross_val_score\n",
    "\n",
    "# Evaluating the tuned model using cross-validation\n",
    "cv_scores = cross_val_score(best_rf_model, X_train, y_train, cv=5, scoring='neg_mean_squared_error')\n",
    "\n",
    "# Converting negative MSE to positive for better understanding\n",
    "cv_scores = -cv_scores\n",
    "cv_scores.mean(), cv_scores.std()\n"
   ]
  },
  {
   "cell_type": "markdown",
   "id": "1240e02f",
   "metadata": {
    "papermill": {
     "duration": 0.01783,
     "end_time": "2024-10-01T16:17:31.935768",
     "exception": false,
     "start_time": "2024-10-01T16:17:31.917938",
     "status": "completed"
    },
    "tags": []
   },
   "source": [
    "<a id=\"2\"></a>\n",
    "# <div style=\"text-align:center; border-radius:15px 50px; padding:15px; color:white; margin:0; font-size:100%; font-family:Arial; background-color:purple; overflow:hidden\"><b> ✨ Saving the Final Model ✨</b></div>"
   ]
  },
  {
   "cell_type": "code",
   "execution_count": 24,
   "id": "142a6edd",
   "metadata": {
    "execution": {
     "iopub.execute_input": "2024-10-01T16:17:31.974052Z",
     "iopub.status.busy": "2024-10-01T16:17:31.973613Z",
     "iopub.status.idle": "2024-10-01T16:17:32.074802Z",
     "shell.execute_reply": "2024-10-01T16:17:32.073747Z"
    },
    "papermill": {
     "duration": 0.123105,
     "end_time": "2024-10-01T16:17:32.077186",
     "exception": false,
     "start_time": "2024-10-01T16:17:31.954081",
     "status": "completed"
    },
    "tags": []
   },
   "outputs": [
    {
     "data": {
      "text/plain": [
       "['random_forest_bike_sales_model.pkl']"
      ]
     },
     "execution_count": 24,
     "metadata": {},
     "output_type": "execute_result"
    }
   ],
   "source": [
    "# Saving the best model for future use\n",
    "import joblib\n",
    "\n",
    "# Save the model as a pickle file\n",
    "joblib.dump(best_rf_model, 'random_forest_bike_sales_model.pkl')\n"
   ]
  },
  {
   "cell_type": "markdown",
   "id": "a8dc18a7",
   "metadata": {
    "papermill": {
     "duration": 0.01823,
     "end_time": "2024-10-01T16:17:32.113989",
     "exception": false,
     "start_time": "2024-10-01T16:17:32.095759",
     "status": "completed"
    },
    "tags": []
   },
   "source": [
    "<a id=\"2\"></a>\n",
    "# <div style=\"text-align:center; border-radius:15px 50px; padding:15px; color:white; margin:0; font-size:100%; font-family:Arial; background-color:purple; overflow:hidden\"><b> ✨ Loading and Using the Saved Model ✨</b></div>"
   ]
  },
  {
   "cell_type": "code",
   "execution_count": 25,
   "id": "dac9b1bd",
   "metadata": {
    "execution": {
     "iopub.execute_input": "2024-10-01T16:17:32.152558Z",
     "iopub.status.busy": "2024-10-01T16:17:32.152126Z",
     "iopub.status.idle": "2024-10-01T16:17:32.468383Z",
     "shell.execute_reply": "2024-10-01T16:17:32.467151Z"
    },
    "papermill": {
     "duration": 0.338465,
     "end_time": "2024-10-01T16:17:32.470921",
     "exception": false,
     "start_time": "2024-10-01T16:17:32.132456",
     "status": "completed"
    },
    "tags": []
   },
   "outputs": [
    {
     "data": {
      "text/plain": [
       "array([3.01857912, 3.00462273, 2.9962296 , 2.99601933, 3.0102071 ,\n",
       "       3.02904634, 3.02747763, 2.99153567, 3.1081401 , 3.03916684])"
      ]
     },
     "execution_count": 25,
     "metadata": {},
     "output_type": "execute_result"
    }
   ],
   "source": [
    "# Loading the saved model\n",
    "loaded_model = joblib.load('random_forest_bike_sales_model.pkl')\n",
    "\n",
    "# Making predictions with the loaded model\n",
    "loaded_model_predictions = loaded_model.predict(X_test)\n",
    "\n",
    "# Displaying a few predictions\n",
    "loaded_model_predictions[:10]\n"
   ]
  },
  {
   "cell_type": "markdown",
   "id": "bc125de4",
   "metadata": {
    "papermill": {
     "duration": 0.020997,
     "end_time": "2024-10-01T16:17:32.512612",
     "exception": false,
     "start_time": "2024-10-01T16:17:32.491615",
     "status": "completed"
    },
    "tags": []
   },
   "source": [
    "# 📋 Conclusion: Key Insights from Bike Sales Analysis\n",
    "\n",
    "In this notebook, we performed a comprehensive analysis of a bike sales dataset, covering several aspects of data exploration, feature engineering, and predictive modeling. Below are the key takeaways from our analysis:\n",
    "\n",
    "## 🧹 Data Cleaning and Preparation\n",
    "- We started by cleaning the dataset, handling missing values, and converting categorical features into numerical representations to ensure compatibility with machine learning models.\n",
    "\n",
    "## 📊 Exploratory Data Analysis (EDA)\n",
    "- **Store Location**: The highest number of sales occurred in New York, making it the most popular location for bike sales.\n",
    "- **Bike Model**: Road bikes were the most popular type, followed by mountain bikes.\n",
    "- **Customer Age**: Most customers fall within the age range of 30-40, indicating a strong buying demographic.\n",
    "\n",
    "## 🤖 Machine Learning Model\n",
    "- We built multiple machine learning models to predict bike sales quantity, including:\n",
    "  - **Random Forest**: The best-performing model with an R² score of *X.XX* after hyperparameter tuning.\n",
    "  - **Linear Regression**: This model provided a baseline for comparison but underperformed compared to the Random Forest model.\n",
    "\n",
    "## 🎯 Feature Importance\n",
    "- The most impactful features in predicting bike sales were:\n",
    "  - **Price**: Higher bike prices tend to reduce the quantity sold.\n",
    "  - **Customer Age**: Middle-aged customers (30-40 years old) are the most frequent buyers.\n",
    "  - **Store Location**: Sales are higher in large urban areas like New York and Los Angeles.\n",
    "\n",
    "## 🔍 Advanced Techniques\n",
    "- We also used **hyperparameter tuning** (GridSearchCV) to optimize the Random Forest model, achieving better accuracy and model stability.\n",
    "- Interaction terms between **Customer Age** and **Price** improved the model's performance further, indicating that these two factors are strongly linked.\n",
    "\n",
    "## 📦 Model Deployment\n",
    "- The final model was saved using `joblib`, allowing it to be easily deployed for future use in real-world applications, such as predicting sales for new customers.\n",
    "\n",
    "---\n",
    "\n",
    "## 🚀 Future Work\n",
    "To further enhance this analysis, additional features like customer income levels or marketing campaigns could be included to improve model predictions. Additionally, exploring more complex machine learning models, such as **Gradient Boosting** or **XGBoost**, could yield better results.\n",
    "\n",
    "---\n",
    "\n",
    "This concludes our analysis. The insights derived from this data can help in making data-driven decisions regarding bike sales strategies and customer targeting. 📊🚴‍♂️\n"
   ]
  },
  {
   "cell_type": "markdown",
   "id": "36a3a10a",
   "metadata": {
    "papermill": {
     "duration": 0.020942,
     "end_time": "2024-10-01T16:17:32.557478",
     "exception": false,
     "start_time": "2024-10-01T16:17:32.536536",
     "status": "completed"
    },
    "tags": []
   },
   "source": [
    "<a id=\"2\"></a>\n",
    "# <div style=\"text-align:center; border-radius:15px 50px; padding:15px; color:white; margin:0; font-size:100%; font-family:Arial; background-color:purple; overflow:hidden\"><b> ✨✨✨ .... ✨ Thank You ✨ .... ✨✨✨</b></div>"
   ]
  }
 ],
 "metadata": {
  "kaggle": {
   "accelerator": "none",
   "dataSources": [
    {
     "datasetId": 5769646,
     "sourceId": 9484529,
     "sourceType": "datasetVersion"
    }
   ],
   "dockerImageVersionId": 30775,
   "isGpuEnabled": false,
   "isInternetEnabled": true,
   "language": "python",
   "sourceType": "notebook"
  },
  "kernelspec": {
   "display_name": "Python 3",
   "language": "python",
   "name": "python3"
  },
  "language_info": {
   "codemirror_mode": {
    "name": "ipython",
    "version": 3
   },
   "file_extension": ".py",
   "mimetype": "text/x-python",
   "name": "python",
   "nbconvert_exporter": "python",
   "pygments_lexer": "ipython3",
   "version": "3.10.14"
  },
  "papermill": {
   "default_parameters": {},
   "duration": 4992.515214,
   "end_time": "2024-10-01T16:17:35.199277",
   "environment_variables": {},
   "exception": null,
   "input_path": "__notebook__.ipynb",
   "output_path": "__notebook__.ipynb",
   "parameters": {},
   "start_time": "2024-10-01T14:54:22.684063",
   "version": "2.6.0"
  }
 },
 "nbformat": 4,
 "nbformat_minor": 5
}
